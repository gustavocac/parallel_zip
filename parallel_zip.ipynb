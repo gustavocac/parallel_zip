{
 "cells": [
  {
   "cell_type": "code",
   "execution_count": null,
   "metadata": {},
   "outputs": [],
   "source": [
    "from glob import glob\n",
    "import multiprocessing\n",
    "import time\n",
    "import os"
   ]
  },
  {
   "cell_type": "code",
   "execution_count": null,
   "metadata": {},
   "outputs": [],
   "source": [
    "# This list has to be the fullpath list of folders\n",
    "folders = sorted(glob(\"/media/felipe/HPA/dataset/*/\")) # The \"*\" is the placeholder for the folders to be listed"
   ]
  },
  {
   "cell_type": "code",
   "execution_count": null,
   "metadata": {},
   "outputs": [],
   "source": [
    "folders"
   ]
  },
  {
   "cell_type": "code",
   "execution_count": null,
   "metadata": {},
   "outputs": [],
   "source": [
    "len(folders)"
   ]
  },
  {
   "cell_type": "code",
   "execution_count": null,
   "metadata": {},
   "outputs": [],
   "source": [
    "def cpu_bound(fold):\n",
    "    cmd = \"zip -r \\\"\" + \"/\".join(fold.split(\"/\")[:-1]) + \".zip\\\" \\\"\" + fold + \"\\\"\"\n",
    "    os.system(cmd)\n",
    "    print(cmd)\n",
    "    return None\n",
    "\n",
    "\n",
    "def compress(list_of_folders):\n",
    "    with multiprocessing.Pool() as pool:\n",
    "        pool.map(cpu_bound, list_of_folders)\n",
    "\n",
    "\n",
    "def parallel_compress(list_of_folders):\n",
    "    start_time = time.time()\n",
    "    res = compress(list_of_folders)\n",
    "    duration = time.time() - start_time\n",
    "    print(f\"Duration {duration} seconds\")"
   ]
  },
  {
   "cell_type": "code",
   "execution_count": null,
   "metadata": {},
   "outputs": [],
   "source": [
    "parallel_compress(folders)"
   ]
  },
  {
   "cell_type": "code",
   "execution_count": null,
   "metadata": {},
   "outputs": [],
   "source": []
  }
 ],
 "metadata": {
  "kernelspec": {
   "display_name": "Python 3",
   "language": "python",
   "name": "python3"
  },
  "language_info": {
   "codemirror_mode": {
    "name": "ipython",
    "version": 3
   },
   "file_extension": ".py",
   "mimetype": "text/x-python",
   "name": "python",
   "nbconvert_exporter": "python",
   "pygments_lexer": "ipython3",
   "version": "3.6.5"
  }
 },
 "nbformat": 4,
 "nbformat_minor": 2
}
